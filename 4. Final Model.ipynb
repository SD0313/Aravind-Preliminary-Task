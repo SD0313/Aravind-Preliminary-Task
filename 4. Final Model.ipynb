{
 "cells": [
  {
   "cell_type": "code",
   "execution_count": 1,
   "metadata": {
    "_cell_guid": "79c7e3d0-c299-4dcb-8224-4455121ee9b0",
    "_uuid": "d629ff2d2480ee46fbb7e2d37f6b5fab8052498a",
    "execution": {
     "iopub.execute_input": "2020-09-13T14:36:00.140357Z",
     "iopub.status.busy": "2020-09-13T14:36:00.139564Z",
     "iopub.status.idle": "2020-09-13T14:36:04.934378Z",
     "shell.execute_reply": "2020-09-13T14:36:04.932699Z"
    },
    "papermill": {
     "duration": 4.811125,
     "end_time": "2020-09-13T14:36:04.934522",
     "exception": false,
     "start_time": "2020-09-13T14:36:00.123397",
     "status": "completed"
    },
    "tags": []
   },
   "outputs": [],
   "source": [
    "import tensorflow as tf\n",
    "from tensorflow import keras\n",
    "\n",
    "from tensorflow.keras.preprocessing.image import load_img, img_to_array, ImageDataGenerator\n",
    "from tensorflow.keras.applications.inception_v3 import InceptionV3\n",
    "from tensorflow.keras.applications.inception_resnet_v2 import InceptionResNetV2\n",
    "from tensorflow.keras.applications.xception import Xception\n",
    "from tensorflow.keras.applications.resnet50 import ResNet50\n",
    "from tensorflow.keras import layers as L\n",
    "\n",
    "\n",
    "import numpy as np\n",
    "import pandas as pd\n",
    "import os\n",
    "\n",
    "import matplotlib.pyplot as plt"
   ]
  },
  {
   "cell_type": "code",
   "execution_count": 2,
   "metadata": {
    "execution": {
     "iopub.execute_input": "2020-09-13T14:36:04.960580Z",
     "iopub.status.busy": "2020-09-13T14:36:04.958795Z",
     "iopub.status.idle": "2020-09-13T14:36:04.961337Z",
     "shell.execute_reply": "2020-09-13T14:36:04.961958Z"
    },
    "papermill": {
     "duration": 0.016649,
     "end_time": "2020-09-13T14:36:04.962084",
     "exception": false,
     "start_time": "2020-09-13T14:36:04.945435",
     "status": "completed"
    },
    "tags": []
   },
   "outputs": [],
   "source": [
    "directory = '../input/origalist/Cropped Images/Cropped Images'"
   ]
  },
  {
   "cell_type": "code",
   "execution_count": 3,
   "metadata": {
    "execution": {
     "iopub.execute_input": "2020-09-13T14:36:04.992974Z",
     "iopub.status.busy": "2020-09-13T14:36:04.992150Z",
     "iopub.status.idle": "2020-09-13T14:36:05.627427Z",
     "shell.execute_reply": "2020-09-13T14:36:05.626270Z"
    },
    "papermill": {
     "duration": 0.654725,
     "end_time": "2020-09-13T14:36:05.627633",
     "exception": false,
     "start_time": "2020-09-13T14:36:04.972908",
     "status": "completed"
    },
    "tags": []
   },
   "outputs": [
    {
     "name": "stdout",
     "output_type": "stream",
     "text": [
      "Found 1818 images belonging to 2 classes.\n",
      "Found 454 images belonging to 2 classes.\n"
     ]
    }
   ],
   "source": [
    "img_datagen = ImageDataGenerator(rescale=1/255.,\n",
    "                                zoom_range=0.2,\n",
    "                                rotation_range=40,\n",
    "                                width_shift_range=0.3,\n",
    "                                height_shift_range=0.3,\n",
    "                                brightness_range=[0.2, 1.0],\n",
    "                                vertical_flip=True,\n",
    "                                horizontal_flip=True,\n",
    "                                validation_split=0.2)\n",
    "\n",
    "train_generator = img_datagen.flow_from_directory(directory,\n",
    "                                                 target_size=(224, 224),\n",
    "                                                 class_mode='binary',\n",
    "                                                 subset='training',\n",
    "                                                  batch_size=16,\n",
    "                                                 shuffle=True)\n",
    "\n",
    "valid_generator = img_datagen.flow_from_directory(directory,\n",
    "                                                 target_size=(224, 224),\n",
    "                                                 class_mode='binary',\n",
    "                                                 subset='validation',\n",
    "                                                  batch_size=1,\n",
    "                                                 shuffle=True)"
   ]
  },
  {
   "cell_type": "code",
   "execution_count": 4,
   "metadata": {
    "execution": {
     "iopub.execute_input": "2020-09-13T14:36:05.669195Z",
     "iopub.status.busy": "2020-09-13T14:36:05.668443Z",
     "iopub.status.idle": "2020-09-13T14:36:14.106713Z",
     "shell.execute_reply": "2020-09-13T14:36:14.106053Z"
    },
    "papermill": {
     "duration": 8.462319,
     "end_time": "2020-09-13T14:36:14.106858",
     "exception": false,
     "start_time": "2020-09-13T14:36:05.644539",
     "status": "completed"
    },
    "tags": []
   },
   "outputs": [
    {
     "name": "stdout",
     "output_type": "stream",
     "text": [
      "Downloading data from https://storage.googleapis.com/tensorflow/keras-applications/inception_v3/inception_v3_weights_tf_dim_ordering_tf_kernels_notop.h5\n",
      "87916544/87910968 [==============================] - 1s 0us/step\n"
     ]
    }
   ],
   "source": [
    "model = keras.Sequential()\n",
    "\n",
    "model.add(InceptionV3(include_top=False, input_shape=(224, 224, 3), weights='imagenet'))\n",
    "model.add(L.GlobalAveragePooling2D())\n",
    "model.add(L.Dense(128, activation='relu'))\n",
    "model.add(L.Dropout(0.3))\n",
    "model.add(L.Dense(1, activation='sigmoid'))\n",
    "\n",
    "model.compile(optimizer=keras.optimizers.SGD(1e-4, 0.9), loss='binary_crossentropy',\n",
    "              metrics=['accuracy', keras.metrics.AUC(name='auc')])"
   ]
  },
  {
   "cell_type": "code",
   "execution_count": 5,
   "metadata": {
    "execution": {
     "iopub.execute_input": "2020-09-13T14:36:14.156543Z",
     "iopub.status.busy": "2020-09-13T14:36:14.145933Z",
     "iopub.status.idle": "2020-09-13T14:36:14.179529Z",
     "shell.execute_reply": "2020-09-13T14:36:14.180122Z"
    },
    "papermill": {
     "duration": 0.057849,
     "end_time": "2020-09-13T14:36:14.180266",
     "exception": false,
     "start_time": "2020-09-13T14:36:14.122417",
     "status": "completed"
    },
    "tags": []
   },
   "outputs": [
    {
     "name": "stdout",
     "output_type": "stream",
     "text": [
      "Model: \"sequential\"\n",
      "_________________________________________________________________\n",
      "Layer (type)                 Output Shape              Param #   \n",
      "=================================================================\n",
      "inception_v3 (Functional)    (None, 5, 5, 2048)        21802784  \n",
      "_________________________________________________________________\n",
      "global_average_pooling2d (Gl (None, 2048)              0         \n",
      "_________________________________________________________________\n",
      "dense (Dense)                (None, 128)               262272    \n",
      "_________________________________________________________________\n",
      "dropout (Dropout)            (None, 128)               0         \n",
      "_________________________________________________________________\n",
      "dense_1 (Dense)              (None, 1)                 129       \n",
      "=================================================================\n",
      "Total params: 22,065,185\n",
      "Trainable params: 22,030,753\n",
      "Non-trainable params: 34,432\n",
      "_________________________________________________________________\n"
     ]
    }
   ],
   "source": [
    "model.summary()"
   ]
  },
  {
   "cell_type": "code",
   "execution_count": 6,
   "metadata": {
    "execution": {
     "iopub.execute_input": "2020-09-13T14:36:14.215890Z",
     "iopub.status.busy": "2020-09-13T14:36:14.215285Z",
     "iopub.status.idle": "2020-09-13T14:36:14.221294Z",
     "shell.execute_reply": "2020-09-13T14:36:14.221810Z"
    },
    "papermill": {
     "duration": 0.026553,
     "end_time": "2020-09-13T14:36:14.221932",
     "exception": false,
     "start_time": "2020-09-13T14:36:14.195379",
     "status": "completed"
    },
    "tags": []
   },
   "outputs": [
    {
     "data": {
      "text/plain": [
       "{'Glaucoma': 0, 'Healthy': 1}"
      ]
     },
     "execution_count": 6,
     "metadata": {},
     "output_type": "execute_result"
    }
   ],
   "source": [
    "train_generator.class_indices"
   ]
  },
  {
   "cell_type": "code",
   "execution_count": 7,
   "metadata": {
    "execution": {
     "iopub.execute_input": "2020-09-13T14:36:14.258091Z",
     "iopub.status.busy": "2020-09-13T14:36:14.257390Z",
     "iopub.status.idle": "2020-09-13T14:36:14.750932Z",
     "shell.execute_reply": "2020-09-13T14:36:14.751631Z"
    },
    "papermill": {
     "duration": 0.514134,
     "end_time": "2020-09-13T14:36:14.751827",
     "exception": false,
     "start_time": "2020-09-13T14:36:14.237693",
     "status": "completed"
    },
    "tags": []
   },
   "outputs": [
    {
     "name": "stderr",
     "output_type": "stream",
     "text": [
      "/opt/conda/lib/python3.7/site-packages/sklearn/utils/validation.py:70: FutureWarning: Pass classes=[0 1], y=[0 0 0 ... 1 1 1] as keyword args. From version 0.25 passing these as positional arguments will result in an error\n",
      "  FutureWarning)\n"
     ]
    }
   ],
   "source": [
    "from sklearn.utils.class_weight import compute_class_weight\n",
    "labels = train_generator.labels\n",
    "weights = compute_class_weight('balanced', np.unique(labels), labels)"
   ]
  },
  {
   "cell_type": "code",
   "execution_count": 8,
   "metadata": {
    "execution": {
     "iopub.execute_input": "2020-09-13T14:36:14.790440Z",
     "iopub.status.busy": "2020-09-13T14:36:14.789731Z",
     "iopub.status.idle": "2020-09-13T14:36:14.794196Z",
     "shell.execute_reply": "2020-09-13T14:36:14.793607Z"
    },
    "papermill": {
     "duration": 0.025442,
     "end_time": "2020-09-13T14:36:14.794295",
     "exception": false,
     "start_time": "2020-09-13T14:36:14.768853",
     "status": "completed"
    },
    "tags": []
   },
   "outputs": [],
   "source": [
    "class_weight = {0: weights[0],\n",
    "               1: weights[1]}"
   ]
  },
  {
   "cell_type": "code",
   "execution_count": 9,
   "metadata": {
    "execution": {
     "iopub.execute_input": "2020-09-13T14:36:14.835078Z",
     "iopub.status.busy": "2020-09-13T14:36:14.833139Z",
     "iopub.status.idle": "2020-09-13T14:36:14.835795Z",
     "shell.execute_reply": "2020-09-13T14:36:14.836302Z"
    },
    "papermill": {
     "duration": 0.025861,
     "end_time": "2020-09-13T14:36:14.836415",
     "exception": false,
     "start_time": "2020-09-13T14:36:14.810554",
     "status": "completed"
    },
    "tags": []
   },
   "outputs": [],
   "source": [
    "class myCallback(tf.keras.callbacks.Callback):\n",
    "    def on_epoch_end(self, epoch, logs={}):\n",
    "        if(logs.get('val_accuracy')>0.7):\n",
    "            print(\"\\nReached 70% accuracy so cancelling training!\")\n",
    "            self.model.stop_training = True\n",
    "        if (logs.get('val_auc') > 0.69):\n",
    "            print(\"\\nReached 70% AUC score so cancelling training!\")\n",
    "            self.model.stop_training = True"
   ]
  },
  {
   "cell_type": "code",
   "execution_count": 10,
   "metadata": {
    "execution": {
     "iopub.execute_input": "2020-09-13T14:36:14.877985Z",
     "iopub.status.busy": "2020-09-13T14:36:14.877345Z",
     "iopub.status.idle": "2020-09-13T14:45:50.365035Z",
     "shell.execute_reply": "2020-09-13T14:45:50.365631Z"
    },
    "papermill": {
     "duration": 575.513106,
     "end_time": "2020-09-13T14:45:50.365808",
     "exception": false,
     "start_time": "2020-09-13T14:36:14.852702",
     "status": "completed"
    },
    "tags": []
   },
   "outputs": [
    {
     "name": "stdout",
     "output_type": "stream",
     "text": [
      "Epoch 1/100\n",
      "113/113 [==============================] - 55s 486ms/step - loss: 0.7075 - accuracy: 0.4972 - auc: 0.5300 - val_loss: 0.7229 - val_accuracy: 0.4714 - val_auc: 0.4946\n",
      "Epoch 2/100\n",
      "113/113 [==============================] - 51s 448ms/step - loss: 0.6798 - accuracy: 0.5505 - auc: 0.5995 - val_loss: 0.6816 - val_accuracy: 0.5727 - val_auc: 0.5771\n",
      "Epoch 3/100\n",
      "113/113 [==============================] - 52s 457ms/step - loss: 0.6724 - accuracy: 0.5966 - auc: 0.6217 - val_loss: 0.6585 - val_accuracy: 0.6189 - val_auc: 0.6249\n",
      "Epoch 4/100\n",
      "113/113 [==============================] - 51s 448ms/step - loss: 0.6500 - accuracy: 0.6143 - auc: 0.6609 - val_loss: 0.6579 - val_accuracy: 0.6167 - val_auc: 0.6048\n",
      "Epoch 5/100\n",
      "113/113 [==============================] - 50s 443ms/step - loss: 0.6264 - accuracy: 0.6332 - auc: 0.7096 - val_loss: 0.6378 - val_accuracy: 0.6388 - val_auc: 0.6422\n",
      "Epoch 6/100\n",
      "113/113 [==============================] - 50s 445ms/step - loss: 0.6156 - accuracy: 0.6521 - auc: 0.7196 - val_loss: 0.6338 - val_accuracy: 0.6476 - val_auc: 0.6377\n",
      "Epoch 7/100\n",
      "113/113 [==============================] - 49s 436ms/step - loss: 0.6058 - accuracy: 0.6687 - auc: 0.7301 - val_loss: 0.6298 - val_accuracy: 0.6410 - val_auc: 0.6692\n",
      "Epoch 8/100\n",
      "113/113 [==============================] - 52s 460ms/step - loss: 0.6084 - accuracy: 0.6654 - auc: 0.7258 - val_loss: 0.6530 - val_accuracy: 0.6278 - val_auc: 0.6141\n",
      "Epoch 9/100\n",
      "113/113 [==============================] - 51s 451ms/step - loss: 0.5870 - accuracy: 0.6776 - auc: 0.7461 - val_loss: 0.6260 - val_accuracy: 0.6454 - val_auc: 0.6509\n",
      "Epoch 10/100\n",
      "113/113 [==============================] - 49s 435ms/step - loss: 0.5765 - accuracy: 0.6992 - auc: 0.7558 - val_loss: 0.6261 - val_accuracy: 0.6278 - val_auc: 0.6532\n",
      "Epoch 11/100\n",
      "113/113 [==============================] - ETA: 0s - loss: 0.5531 - accuracy: 0.7031 - auc: 0.7819\n",
      "Reached 70% AUC score so cancelling training!\n",
      "113/113 [==============================] - 49s 438ms/step - loss: 0.5531 - accuracy: 0.7031 - auc: 0.7819 - val_loss: 0.6191 - val_accuracy: 0.6564 - val_auc: 0.6904\n"
     ]
    }
   ],
   "source": [
    "STEPS_PER_EPOCH = train_generator.n//train_generator.batch_size\n",
    "VALIDATION_STEPS = valid_generator.n//valid_generator.batch_size\n",
    "EPOCHS = 100\n",
    "\n",
    "\n",
    "history = model.fit(train_generator, steps_per_epoch=STEPS_PER_EPOCH,\n",
    "                   validation_data=valid_generator, validation_steps=VALIDATION_STEPS, \n",
    "                    class_weight=class_weight, callbacks=[myCallback()], epochs=EPOCHS)"
   ]
  },
  {
   "cell_type": "code",
   "execution_count": 11,
   "metadata": {
    "execution": {
     "iopub.execute_input": "2020-09-13T14:45:51.402629Z",
     "iopub.status.busy": "2020-09-13T14:45:51.400622Z",
     "iopub.status.idle": "2020-09-13T14:45:51.754708Z",
     "shell.execute_reply": "2020-09-13T14:45:51.755252Z"
    },
    "papermill": {
     "duration": 0.894557,
     "end_time": "2020-09-13T14:45:51.755415",
     "exception": false,
     "start_time": "2020-09-13T14:45:50.860858",
     "status": "completed"
    },
    "tags": []
   },
   "outputs": [
    {
     "data": {
      "image/png": "[encoded data removed]",
      "text/plain": [
       "<Figure size 432x288 with 1 Axes>"
      ]
     },
     "metadata": {
      "needs_background": "light"
     },
     "output_type": "display_data"
    },
    {
     "data": {
      "image/png": "[encoded data removed]",
      "text/plain": [
       "<Figure size 432x288 with 1 Axes>"
      ]
     },
     "metadata": {
      "needs_background": "light"
     },
     "output_type": "display_data"
    }
   ],
   "source": [
    "plt.plot(history.history['accuracy'])\n",
    "plt.plot(history.history['val_accuracy'])\n",
    "plt.title('Model Accuracy')\n",
    "plt.ylabel('Accuracy')\n",
    "plt.xlabel('Epoch')\n",
    "plt.legend(['train', 'test'], loc='upper left')\n",
    "plt.show()\n",
    "\n",
    "plt.plot(history.history['loss'])\n",
    "plt.plot(history.history['val_loss'])\n",
    "plt.title('Model Loss')\n",
    "plt.ylabel('Loss')\n",
    "plt.xlabel('Epoch')\n",
    "plt.legend(['train', 'test'], loc='upper left')\n",
    "plt.show()"
   ]
  },
  {
   "cell_type": "code",
   "execution_count": 12,
   "metadata": {
    "execution": {
     "iopub.execute_input": "2020-09-13T14:45:52.777222Z",
     "iopub.status.busy": "2020-09-13T14:45:52.766901Z",
     "iopub.status.idle": "2020-09-13T14:45:53.573110Z",
     "shell.execute_reply": "2020-09-13T14:45:53.571857Z"
    },
    "papermill": {
     "duration": 1.305201,
     "end_time": "2020-09-13T14:45:53.573262",
     "exception": false,
     "start_time": "2020-09-13T14:45:52.268061",
     "status": "completed"
    },
    "tags": []
   },
   "outputs": [],
   "source": [
    "model.save('final_model.h5')"
   ]
  }
 ],
 "metadata": {
  "kernelspec": {
   "display_name": "Python 3",
   "language": "python",
   "name": "python3"
  },
  "language_info": {
   "codemirror_mode": {
    "name": "ipython",
    "version": 3
   },
   "file_extension": ".py",
   "mimetype": "text/x-python",
   "name": "python",
   "nbconvert_exporter": "python",
   "pygments_lexer": "ipython3",
   "version": "3.7.6"
  },
  "papermill": {
   "duration": 598.920324,
   "end_time": "2020-09-13T14:45:55.137555",
   "environment_variables": {},
   "exception": null,
   "input_path": "__notebook__.ipynb",
   "output_path": "__notebook__.ipynb",
   "parameters": {},
   "start_time": "2020-09-13T14:35:56.217231",
   "version": "2.1.0"
  }
 },
 "nbformat": 4,
 "nbformat_minor": 4
}
