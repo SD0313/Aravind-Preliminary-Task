{
 "cells": [
  {
   "cell_type": "code",
   "execution_count": 1,
   "metadata": {},
   "outputs": [],
   "source": [
    "import pandas as pd\n",
    "import numpy as np\n",
    "import cv2\n",
    "\n",
    "import tensorflow as tf\n",
    "from tensorflow import keras\n",
    "from keras import backend as K\n",
    "from tensorflow.keras.preprocessing.image import load_img, img_to_array, array_to_img\n",
    "\n",
    "import matplotlib.pyplot as plt\n",
    "import os\n"
   ]
  },
  {
   "cell_type": "code",
   "execution_count": 2,
   "metadata": {},
   "outputs": [],
   "source": [
    "def dice_coef_9cat(y_true, y_pred, smooth=1e-7):\n",
    "    '''\n",
    "    Dice coefficient for 3 categories. Ignores background pixel label 0\n",
    "    Pass to model as metric during compile statement\n",
    "    '''\n",
    "    y_true_f = K.flatten(K.one_hot(K.cast(y_true, 'int32'), num_classes=3)[...,1:])\n",
    "    y_pred_f = K.flatten(y_pred[...,1:])\n",
    "    intersect = K.sum(y_true_f * y_pred_f, axis=-1)\n",
    "    denom = K.sum(y_true_f + y_pred_f, axis=-1)\n",
    "    return K.mean((2. * intersect / (denom + smooth)))\n",
    "\n",
    "def dice_coef_9cat_loss(y_true, y_pred):\n",
    "    '''\n",
    "    Dice loss to minimize. Pass to model as loss during compile statement\n",
    "    '''\n",
    "    return 1 - dice_coef_9cat(y_true, y_pred)"
   ]
  },
  {
   "cell_type": "code",
   "execution_count": 3,
   "metadata": {},
   "outputs": [],
   "source": [
    "loss = dice_coef_9cat_loss\n",
    "segmentation_model = keras.models.load_model('C:\\Luna_CS\\Aravind\\working_model.h5', \n",
    "                                   custom_objects={ loss.__name__: loss })"
   ]
  },
  {
   "cell_type": "code",
   "execution_count": 4,
   "metadata": {},
   "outputs": [],
   "source": [
    "def remove_nerves(image):\n",
    "    img = array_to_img(image)\n",
    "    \n",
    "    img = cv2.cvtColor(np.array(img), cv2.COLOR_BGR2RGB)\n",
    "    # convert image to grayScale\n",
    "    grayScale = cv2.cvtColor(img, cv2.COLOR_RGB2GRAY)\n",
    "   \n",
    "    # kernel for morphologyEx\n",
    "    kernel = cv2.getStructuringElement(1,(17,17))\n",
    "   \n",
    "    # apply MORPH_BLACKHAT to grayScale image\n",
    "    blackhat = cv2.morphologyEx(grayScale, cv2.MORPH_BLACKHAT, kernel)\n",
    "  \n",
    "    # apply thresholding to blackhat\n",
    "    _,threshold = cv2.threshold(blackhat,10,255,cv2.THRESH_BINARY)\n",
    "\n",
    "    # inpaint with original image and threshold image\n",
    "    final_image = cv2.inpaint(img,threshold,1,cv2.INPAINT_TELEA)\n",
    "    final_image = cv2.cvtColor(final_image, cv2.COLOR_BGR2RGB)\n",
    "    \n",
    "    return final_image.astype(np.float64)/255.0"
   ]
  },
  {
   "cell_type": "code",
   "execution_count": 5,
   "metadata": {},
   "outputs": [],
   "source": [
    "def get_cropped_image(file, model):\n",
    "    test_img = load_img(file, target_size=(512, 512))\n",
    "    test_img_original = load_img(file)\n",
    "    full_arr = np.array(test_img_original)/255.0\n",
    "    x_true = full_arr.shape[0]\n",
    "    y_true = full_arr.shape[1]\n",
    "    test_arr = img_to_array(test_img)/255.0\n",
    "    \n",
    "    test_arr_preprocessed = remove_nerves(test_arr)\n",
    "\n",
    "    pred = model.predict(test_arr_preprocessed.reshape(1, 512, 512, 3))\n",
    "    single_pred = pred[0]\n",
    "    mask_img = array_to_img(single_pred)\n",
    "    mask_img = mask_img.resize((y_true, x_true))\n",
    "    mask_arr = np.array(mask_img)/255.0\n",
    "    my_mask = np.zeros((x_true, y_true))\n",
    "    marked = []\n",
    "    inner = []\n",
    "    for i in range(x_true):\n",
    "        for j in range(y_true):\n",
    "            if np.argmax(mask_arr[i][j]) != 0:\n",
    "                marked.append([i, j])\n",
    "                \n",
    "    avgi = []\n",
    "    avgj = []\n",
    "    for lis in marked:\n",
    "        first = lis[0]\n",
    "        sec = lis[1]\n",
    "        avgi.append(first)\n",
    "        avgj.append(sec)\n",
    "        \n",
    "\n",
    "        \n",
    "    avgi = sum(avgi)//len(avgi)\n",
    "    avgj = sum(avgj)//len(avgj)\n",
    "    \n",
    "    middle  = (avgi, avgj)\n",
    "    K = int((300.0/6291456.0)*float(x_true*y_true))\n",
    "    top = middle[1] - K\n",
    "    bottom = middle[1] + K\n",
    "    left = middle[0] - K\n",
    "    right = middle[0] + K\n",
    "    \n",
    "    cropped = test_img_original.crop(((top, left, bottom, right)))\n",
    "\n",
    "    return np.array(cropped)/255.0\n",
    "    "
   ]
  },
  {
   "cell_type": "code",
   "execution_count": 6,
   "metadata": {},
   "outputs": [
    {
     "data": {
      "text/html": [
       "<div>\n",
       "<style scoped>\n",
       "    .dataframe tbody tr th:only-of-type {\n",
       "        vertical-align: middle;\n",
       "    }\n",
       "\n",
       "    .dataframe tbody tr th {\n",
       "        vertical-align: top;\n",
       "    }\n",
       "\n",
       "    .dataframe thead th {\n",
       "        text-align: right;\n",
       "    }\n",
       "</style>\n",
       "<table border=\"1\" class=\"dataframe\">\n",
       "  <thead>\n",
       "    <tr style=\"text-align: right;\">\n",
       "      <th></th>\n",
       "      <th>Eye</th>\n",
       "      <th>Filename</th>\n",
       "      <th>ExpCDR</th>\n",
       "      <th>Set</th>\n",
       "      <th>Glaucoma</th>\n",
       "    </tr>\n",
       "  </thead>\n",
       "  <tbody>\n",
       "    <tr>\n",
       "      <th>0</th>\n",
       "      <td>OD</td>\n",
       "      <td>001.jpg</td>\n",
       "      <td>0.7097</td>\n",
       "      <td>A</td>\n",
       "      <td>0</td>\n",
       "    </tr>\n",
       "    <tr>\n",
       "      <th>1</th>\n",
       "      <td>OS</td>\n",
       "      <td>002.jpg</td>\n",
       "      <td>0.6953</td>\n",
       "      <td>A</td>\n",
       "      <td>0</td>\n",
       "    </tr>\n",
       "    <tr>\n",
       "      <th>2</th>\n",
       "      <td>OS</td>\n",
       "      <td>003.jpg</td>\n",
       "      <td>0.9629</td>\n",
       "      <td>A</td>\n",
       "      <td>0</td>\n",
       "    </tr>\n",
       "    <tr>\n",
       "      <th>3</th>\n",
       "      <td>OD</td>\n",
       "      <td>004.jpg</td>\n",
       "      <td>0.7246</td>\n",
       "      <td>A</td>\n",
       "      <td>0</td>\n",
       "    </tr>\n",
       "    <tr>\n",
       "      <th>4</th>\n",
       "      <td>OS</td>\n",
       "      <td>005.jpg</td>\n",
       "      <td>0.6138</td>\n",
       "      <td>A</td>\n",
       "      <td>0</td>\n",
       "    </tr>\n",
       "  </tbody>\n",
       "</table>\n",
       "</div>"
      ],
      "text/plain": [
       "  Eye Filename  ExpCDR Set  Glaucoma\n",
       "0  OD  001.jpg  0.7097   A         0\n",
       "1  OS  002.jpg  0.6953   A         0\n",
       "2  OS  003.jpg  0.9629   A         0\n",
       "3  OD  004.jpg  0.7246   A         0\n",
       "4  OS  005.jpg  0.6138   A         0"
      ]
     },
     "execution_count": 6,
     "metadata": {},
     "output_type": "execute_result"
    }
   ],
   "source": [
    "df = pd.read_csv('C:\\Luna_CS\\Aravind\\ORIGA\\OrigaList.csv')\n",
    "df.head()"
   ]
  },
  {
   "cell_type": "code",
   "execution_count": 7,
   "metadata": {},
   "outputs": [
    {
     "data": {
      "text/html": [
       "<div>\n",
       "<style scoped>\n",
       "    .dataframe tbody tr th:only-of-type {\n",
       "        vertical-align: middle;\n",
       "    }\n",
       "\n",
       "    .dataframe tbody tr th {\n",
       "        vertical-align: top;\n",
       "    }\n",
       "\n",
       "    .dataframe thead th {\n",
       "        text-align: right;\n",
       "    }\n",
       "</style>\n",
       "<table border=\"1\" class=\"dataframe\">\n",
       "  <thead>\n",
       "    <tr style=\"text-align: right;\">\n",
       "      <th></th>\n",
       "      <th>Filename</th>\n",
       "      <th>Glaucoma</th>\n",
       "      <th>Filename_full</th>\n",
       "      <th>Cropped</th>\n",
       "    </tr>\n",
       "  </thead>\n",
       "  <tbody>\n",
       "    <tr>\n",
       "      <th>0</th>\n",
       "      <td>001.jpg</td>\n",
       "      <td>0</td>\n",
       "      <td>C:\\Luna_CS\\Aravind\\ORIGA\\Images\\001.jpg</td>\n",
       "      <td>False</td>\n",
       "    </tr>\n",
       "    <tr>\n",
       "      <th>1</th>\n",
       "      <td>002.jpg</td>\n",
       "      <td>0</td>\n",
       "      <td>C:\\Luna_CS\\Aravind\\ORIGA\\Images\\002.jpg</td>\n",
       "      <td>False</td>\n",
       "    </tr>\n",
       "    <tr>\n",
       "      <th>2</th>\n",
       "      <td>003.jpg</td>\n",
       "      <td>0</td>\n",
       "      <td>C:\\Luna_CS\\Aravind\\ORIGA\\Images\\003.jpg</td>\n",
       "      <td>False</td>\n",
       "    </tr>\n",
       "    <tr>\n",
       "      <th>3</th>\n",
       "      <td>004.jpg</td>\n",
       "      <td>0</td>\n",
       "      <td>C:\\Luna_CS\\Aravind\\ORIGA\\Images\\004.jpg</td>\n",
       "      <td>False</td>\n",
       "    </tr>\n",
       "    <tr>\n",
       "      <th>4</th>\n",
       "      <td>005.jpg</td>\n",
       "      <td>0</td>\n",
       "      <td>C:\\Luna_CS\\Aravind\\ORIGA\\Images\\005.jpg</td>\n",
       "      <td>False</td>\n",
       "    </tr>\n",
       "  </tbody>\n",
       "</table>\n",
       "</div>"
      ],
      "text/plain": [
       "  Filename  Glaucoma                            Filename_full  Cropped\n",
       "0  001.jpg         0  C:\\Luna_CS\\Aravind\\ORIGA\\Images\\001.jpg    False\n",
       "1  002.jpg         0  C:\\Luna_CS\\Aravind\\ORIGA\\Images\\002.jpg    False\n",
       "2  003.jpg         0  C:\\Luna_CS\\Aravind\\ORIGA\\Images\\003.jpg    False\n",
       "3  004.jpg         0  C:\\Luna_CS\\Aravind\\ORIGA\\Images\\004.jpg    False\n",
       "4  005.jpg         0  C:\\Luna_CS\\Aravind\\ORIGA\\Images\\005.jpg    False"
      ]
     },
     "execution_count": 7,
     "metadata": {},
     "output_type": "execute_result"
    }
   ],
   "source": [
    "simple_df = df.drop(['Eye', 'ExpCDR', 'Set'], axis=1, inplace=False)\n",
    "\n",
    "## Add Full Filename Paths ##\n",
    "\n",
    "folder = 'C:\\Luna_CS\\Aravind\\ORIGA\\Images'\n",
    "simple_df['Filename_full'] = [os.path.join(folder, file) for file in simple_df['Filename']]\n",
    "simple_df['Cropped'] = [False for file in simple_df['Filename']]\n",
    "simple_df.head()\n"
   ]
  },
  {
   "cell_type": "code",
   "execution_count": 8,
   "metadata": {},
   "outputs": [],
   "source": [
    "folder_path = 'C:\\Luna_CS\\Aravind\\Database\\Images'\n",
    "for file in os.listdir(folder_path):\n",
    "    columns = ['Filename', 'Glaucoma', 'Filename_full', 'Cropped']\n",
    "    row = pd.DataFrame([[file, int('_g_' in file),os.path.join(folder_path, file), True]],\n",
    "                      columns = columns)\n",
    "    simple_df = simple_df.append(row)"
   ]
  },
  {
   "cell_type": "code",
   "execution_count": 9,
   "metadata": {},
   "outputs": [
    {
     "data": {
      "text/html": [
       "<div>\n",
       "<style scoped>\n",
       "    .dataframe tbody tr th:only-of-type {\n",
       "        vertical-align: middle;\n",
       "    }\n",
       "\n",
       "    .dataframe tbody tr th {\n",
       "        vertical-align: top;\n",
       "    }\n",
       "\n",
       "    .dataframe thead th {\n",
       "        text-align: right;\n",
       "    }\n",
       "</style>\n",
       "<table border=\"1\" class=\"dataframe\">\n",
       "  <thead>\n",
       "    <tr style=\"text-align: right;\">\n",
       "      <th></th>\n",
       "      <th>Filename</th>\n",
       "      <th>Glaucoma</th>\n",
       "      <th>Filename_full</th>\n",
       "      <th>Cropped</th>\n",
       "    </tr>\n",
       "  </thead>\n",
       "  <tbody>\n",
       "    <tr>\n",
       "      <th>1350</th>\n",
       "      <td>Im701_g_ACRIMA.jpg</td>\n",
       "      <td>1</td>\n",
       "      <td>C:\\Luna_CS\\Aravind\\Database\\Images\\Im701_g_ACR...</td>\n",
       "      <td>True</td>\n",
       "    </tr>\n",
       "    <tr>\n",
       "      <th>1351</th>\n",
       "      <td>Im702_g_ACRIMA.JPG</td>\n",
       "      <td>1</td>\n",
       "      <td>C:\\Luna_CS\\Aravind\\Database\\Images\\Im702_g_ACR...</td>\n",
       "      <td>True</td>\n",
       "    </tr>\n",
       "    <tr>\n",
       "      <th>1352</th>\n",
       "      <td>Im703_g_ACRIMA.JPG</td>\n",
       "      <td>1</td>\n",
       "      <td>C:\\Luna_CS\\Aravind\\Database\\Images\\Im703_g_ACR...</td>\n",
       "      <td>True</td>\n",
       "    </tr>\n",
       "    <tr>\n",
       "      <th>1353</th>\n",
       "      <td>Im704_g_ACRIMA.jpg</td>\n",
       "      <td>1</td>\n",
       "      <td>C:\\Luna_CS\\Aravind\\Database\\Images\\Im704_g_ACR...</td>\n",
       "      <td>True</td>\n",
       "    </tr>\n",
       "    <tr>\n",
       "      <th>1354</th>\n",
       "      <td>Im705_g_ACRIMA.jpg</td>\n",
       "      <td>1</td>\n",
       "      <td>C:\\Luna_CS\\Aravind\\Database\\Images\\Im705_g_ACR...</td>\n",
       "      <td>True</td>\n",
       "    </tr>\n",
       "  </tbody>\n",
       "</table>\n",
       "</div>"
      ],
      "text/plain": [
       "                Filename  Glaucoma  \\\n",
       "1350  Im701_g_ACRIMA.jpg         1   \n",
       "1351  Im702_g_ACRIMA.JPG         1   \n",
       "1352  Im703_g_ACRIMA.JPG         1   \n",
       "1353  Im704_g_ACRIMA.jpg         1   \n",
       "1354  Im705_g_ACRIMA.jpg         1   \n",
       "\n",
       "                                          Filename_full  Cropped  \n",
       "1350  C:\\Luna_CS\\Aravind\\Database\\Images\\Im701_g_ACR...     True  \n",
       "1351  C:\\Luna_CS\\Aravind\\Database\\Images\\Im702_g_ACR...     True  \n",
       "1352  C:\\Luna_CS\\Aravind\\Database\\Images\\Im703_g_ACR...     True  \n",
       "1353  C:\\Luna_CS\\Aravind\\Database\\Images\\Im704_g_ACR...     True  \n",
       "1354  C:\\Luna_CS\\Aravind\\Database\\Images\\Im705_g_ACR...     True  "
      ]
     },
     "execution_count": 9,
     "metadata": {},
     "output_type": "execute_result"
    }
   ],
   "source": [
    "simple_df = simple_df.reset_index(drop=True)\n",
    "simple_df.tail()"
   ]
  },
  {
   "cell_type": "code",
   "execution_count": 10,
   "metadata": {},
   "outputs": [
    {
     "data": {
      "text/plain": [
       "0.41623616236162364"
      ]
     },
     "execution_count": 10,
     "metadata": {},
     "output_type": "execute_result"
    }
   ],
   "source": [
    "sum(simple_df['Glaucoma'])/len(simple_df['Glaucoma'])"
   ]
  },
  {
   "cell_type": "code",
   "execution_count": 11,
   "metadata": {},
   "outputs": [],
   "source": [
    "g1020_folder = 'C:\\Luna_CS\\Aravind\\G1020\\G1020'\n",
    "g1020_df = pd.read_csv('C:\\Luna_CS\\Aravind\\G1020\\G1020\\G1020.csv')\n",
    "clean_df = pd.DataFrame({})\n",
    "clean_df['Filename'] = g1020_df['imageID']\n",
    "clean_df['Glaucoma'] = g1020_df['binaryLabels']\n",
    "\n",
    "clean_df['Filename_full'] = [os.path.join(g1020_folder, img_name) for img_name in g1020_df['imageID']]\n",
    "\n",
    "clean_df['Cropped'] = [False for _ in g1020_df['imageID']]"
   ]
  },
  {
   "cell_type": "code",
   "execution_count": 12,
   "metadata": {},
   "outputs": [],
   "source": [
    "simple_df = simple_df.append(clean_df)"
   ]
  },
  {
   "cell_type": "code",
   "execution_count": 13,
   "metadata": {},
   "outputs": [
    {
     "data": {
      "text/html": [
       "<div>\n",
       "<style scoped>\n",
       "    .dataframe tbody tr th:only-of-type {\n",
       "        vertical-align: middle;\n",
       "    }\n",
       "\n",
       "    .dataframe tbody tr th {\n",
       "        vertical-align: top;\n",
       "    }\n",
       "\n",
       "    .dataframe thead th {\n",
       "        text-align: right;\n",
       "    }\n",
       "</style>\n",
       "<table border=\"1\" class=\"dataframe\">\n",
       "  <thead>\n",
       "    <tr style=\"text-align: right;\">\n",
       "      <th></th>\n",
       "      <th>Filename</th>\n",
       "      <th>Glaucoma</th>\n",
       "      <th>Filename_full</th>\n",
       "      <th>Cropped</th>\n",
       "    </tr>\n",
       "  </thead>\n",
       "  <tbody>\n",
       "    <tr>\n",
       "      <th>2370</th>\n",
       "      <td>image_3198.jpg</td>\n",
       "      <td>0</td>\n",
       "      <td>C:\\Luna_CS\\Aravind\\G1020\\G1020\\image_3198.jpg</td>\n",
       "      <td>False</td>\n",
       "    </tr>\n",
       "    <tr>\n",
       "      <th>2371</th>\n",
       "      <td>image_3199.jpg</td>\n",
       "      <td>0</td>\n",
       "      <td>C:\\Luna_CS\\Aravind\\G1020\\G1020\\image_3199.jpg</td>\n",
       "      <td>False</td>\n",
       "    </tr>\n",
       "    <tr>\n",
       "      <th>2372</th>\n",
       "      <td>image_3201.jpg</td>\n",
       "      <td>1</td>\n",
       "      <td>C:\\Luna_CS\\Aravind\\G1020\\G1020\\image_3201.jpg</td>\n",
       "      <td>False</td>\n",
       "    </tr>\n",
       "    <tr>\n",
       "      <th>2373</th>\n",
       "      <td>image_3202.jpg</td>\n",
       "      <td>1</td>\n",
       "      <td>C:\\Luna_CS\\Aravind\\G1020\\G1020\\image_3202.jpg</td>\n",
       "      <td>False</td>\n",
       "    </tr>\n",
       "    <tr>\n",
       "      <th>2374</th>\n",
       "      <td>image_2568.jpg</td>\n",
       "      <td>0</td>\n",
       "      <td>C:\\Luna_CS\\Aravind\\G1020\\G1020\\image_2568.jpg</td>\n",
       "      <td>False</td>\n",
       "    </tr>\n",
       "  </tbody>\n",
       "</table>\n",
       "</div>"
      ],
      "text/plain": [
       "            Filename  Glaucoma                                  Filename_full  \\\n",
       "2370  image_3198.jpg         0  C:\\Luna_CS\\Aravind\\G1020\\G1020\\image_3198.jpg   \n",
       "2371  image_3199.jpg         0  C:\\Luna_CS\\Aravind\\G1020\\G1020\\image_3199.jpg   \n",
       "2372  image_3201.jpg         1  C:\\Luna_CS\\Aravind\\G1020\\G1020\\image_3201.jpg   \n",
       "2373  image_3202.jpg         1  C:\\Luna_CS\\Aravind\\G1020\\G1020\\image_3202.jpg   \n",
       "2374  image_2568.jpg         0  C:\\Luna_CS\\Aravind\\G1020\\G1020\\image_2568.jpg   \n",
       "\n",
       "      Cropped  \n",
       "2370    False  \n",
       "2371    False  \n",
       "2372    False  \n",
       "2373    False  \n",
       "2374    False  "
      ]
     },
     "execution_count": 13,
     "metadata": {},
     "output_type": "execute_result"
    }
   ],
   "source": [
    "simple_df = simple_df.reset_index(drop=True)\n",
    "simple_df.tail()"
   ]
  },
  {
   "cell_type": "code",
   "execution_count": 14,
   "metadata": {},
   "outputs": [
    {
     "data": {
      "text/plain": [
       "0.36210526315789476"
      ]
     },
     "execution_count": 14,
     "metadata": {},
     "output_type": "execute_result"
    }
   ],
   "source": [
    "sum(simple_df['Glaucoma'])/len(simple_df['Glaucoma'])"
   ]
  },
  {
   "cell_type": "markdown",
   "metadata": {},
   "source": [
    "```simple_df``` now stores the name of each file, which class they belong to, and whether they need to be cropped or not. Based on this information, the next code cell goes through each row of this dataframe, and crops it if necessasry. Then they are placed in the **Healthy** folder if the label is 0, and placed in the **Glaucoma** folder if the label is 1. "
   ]
  },
  {
   "cell_type": "code",
   "execution_count": null,
   "metadata": {
    "scrolled": true
   },
   "outputs": [],
   "source": [
    "\n",
    "for file, label, path, cropped in zip(simple_df['Filename'], simple_df['Glaucoma'], \n",
    "                                   simple_df['Filename_full'], simple_df['Cropped']):\n",
    "    if label == 0:\n",
    "        folder = 'C:\\Luna_CS\\Aravind\\Cropped Images\\Healthy'\n",
    "        if cropped:\n",
    "            img = load_img(path)\n",
    "        else:\n",
    "            img = get_cropped_image(path, segmentation_model)\n",
    "            img = array_to_img(img)\n",
    "            \n",
    "        img = img.save(os.path.join(folder, file))\n",
    "        \n",
    "    else:\n",
    "        folder = 'C:\\Luna_CS\\Aravind\\Cropped Images\\Glaucoma'\n",
    "        if cropped:\n",
    "            img = load_img(path)\n",
    "        else:\n",
    "            img = get_cropped_image(path, segmentation_model)\n",
    "            img = array_to_img(img)\n",
    "            \n",
    "        img = img.save(os.path.join(folder, file))        \n"
   ]
  }
 ],
 "metadata": {
  "kernelspec": {
   "display_name": "Python 3",
   "language": "python",
   "name": "python3"
  },
  "language_info": {
   "codemirror_mode": {
    "name": "ipython",
    "version": 3
   },
   "file_extension": ".py",
   "mimetype": "text/x-python",
   "name": "python",
   "nbconvert_exporter": "python",
   "pygments_lexer": "ipython3",
   "version": "3.8.5"
  }
 },
 "nbformat": 4,
 "nbformat_minor": 4
}
